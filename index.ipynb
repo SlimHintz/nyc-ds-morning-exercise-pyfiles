{
 "cells": [
  {
   "cell_type": "markdown",
   "metadata": {},
   "source": [
    "# Importing Custom Functions\n",
    "\n",
    "This morning, we will work through the process of developing functions and moving them into `.py` files. \n",
    "\n",
    "## Why does this matter?\n",
    "\n",
    "As data scientists, it is not only important that our analysis is strong, it is also *very* important that our work can be understood. Typically, we write a lot of code when working on data science projects, and much of the code is not \"required reading\" for following the narrative of how we came to our results. \n",
    "\n",
    "For example, visualization code can be messy and is rarely helpful for someone reading our reports. The output of that code is what matters! For this reason, it is oftentimes best to move our code into separate files and import it into our final notebook.\n",
    "\n",
    ">Of course, transparency is important! Whenever possible, you should link to the files containing custom code so readers can examine the code if they  wish to!\n",
    "\n",
    "\n",
    "***Please note:*** This process is usually only done once a project has been completed, when the findings have been finalized, and the final report is being written. "
   ]
  },
  {
   "cell_type": "markdown",
   "metadata": {},
   "source": [
    "This morning, we will use the [New York Times Historical County Dataset](https://github.com/nytimes/covid-19-data/blob/master/us-counties.csv)–– one of multiple datasets that are updated daily within the company's [COVID19 Github Repository](https://github.com/nytimes/covid-19-data)"
   ]
  },
  {
   "cell_type": "markdown",
   "metadata": {},
   "source": [
    "# Your Task\n",
    "You are asked to create 3 functions. \n",
    "\n",
    "--------\n",
    "#### Function #1\n",
    "\n",
    "Please create a function called `nytimes` that loads the dataset into a pandas dataframe.\n",
    ">Pandas is able to load csv files from webpages. For this function you will use `pd.read_csv` and you will feed in the following string `'https://raw.githubusercontent.com/nytimes/covid-19-data/master/us-counties.csv'`\n",
    "\n",
    "----\n",
    "\n",
    "#### Function #2\n",
    "\n",
    "Please create a function called `county_data` that receives the following arguments:\n",
    "1. `county`\n",
    "    - This argument serves as a placeholder for a county name. It will be a string datatype.\n",
    "2. `state`\n",
    "    - This argument serves as a placeholder for a state name. It will be a string datatype.\n",
    "\n",
    "This function should receive the county and state and return a dataframe of data isolated to the searched county.\n",
    "\n",
    "*Please note:* There are multiple counties that share the same name!\n",
    "\n",
    "----\n",
    "\n",
    "#### Function #3\n",
    "\n",
    "Please create a function called `plot_county_cases` that receives the following arguments:\n",
    "\n",
    "1. `county`\n",
    "    - This argument serves as a placeholder for a county name. It will be a string datatype.\n",
    "2. `state`\n",
    "    - This argument serves as a placeholder for a state name. It will be a string datatype.\n",
    "    \n",
    "This function should receive the county and state, and output a line plot of the confirmed cases for the searched county.\n",
    "\n",
    "---\n",
    "\n",
    "Please complete your work below:"
   ]
  },
  {
   "cell_type": "code",
   "execution_count": 41,
   "metadata": {
    "ExecuteTime": {
     "end_time": "2020-09-21T02:11:00.887851Z",
     "start_time": "2020-09-21T02:11:00.881780Z"
    }
   },
   "outputs": [],
   "source": [
    "import pandas as pd\n",
    "import matplotlib.pyplot as plt\n",
    "\n",
    "%matplotlib inline"
   ]
  },
  {
   "cell_type": "code",
   "execution_count": 42,
   "metadata": {},
   "outputs": [
    {
     "data": {
      "text/html": [
       "<div>\n",
       "<style scoped>\n",
       "    .dataframe tbody tr th:only-of-type {\n",
       "        vertical-align: middle;\n",
       "    }\n",
       "\n",
       "    .dataframe tbody tr th {\n",
       "        vertical-align: top;\n",
       "    }\n",
       "\n",
       "    .dataframe thead th {\n",
       "        text-align: right;\n",
       "    }\n",
       "</style>\n",
       "<table border=\"1\" class=\"dataframe\">\n",
       "  <thead>\n",
       "    <tr style=\"text-align: right;\">\n",
       "      <th></th>\n",
       "      <th>date</th>\n",
       "      <th>county</th>\n",
       "      <th>state</th>\n",
       "      <th>fips</th>\n",
       "      <th>cases</th>\n",
       "      <th>deaths</th>\n",
       "    </tr>\n",
       "  </thead>\n",
       "  <tbody>\n",
       "    <tr>\n",
       "      <th>0</th>\n",
       "      <td>2020-01-21</td>\n",
       "      <td>Snohomish</td>\n",
       "      <td>Washington</td>\n",
       "      <td>53061.0</td>\n",
       "      <td>1</td>\n",
       "      <td>0</td>\n",
       "    </tr>\n",
       "    <tr>\n",
       "      <th>1</th>\n",
       "      <td>2020-01-22</td>\n",
       "      <td>Snohomish</td>\n",
       "      <td>Washington</td>\n",
       "      <td>53061.0</td>\n",
       "      <td>1</td>\n",
       "      <td>0</td>\n",
       "    </tr>\n",
       "    <tr>\n",
       "      <th>2</th>\n",
       "      <td>2020-01-23</td>\n",
       "      <td>Snohomish</td>\n",
       "      <td>Washington</td>\n",
       "      <td>53061.0</td>\n",
       "      <td>1</td>\n",
       "      <td>0</td>\n",
       "    </tr>\n",
       "    <tr>\n",
       "      <th>3</th>\n",
       "      <td>2020-01-24</td>\n",
       "      <td>Cook</td>\n",
       "      <td>Illinois</td>\n",
       "      <td>17031.0</td>\n",
       "      <td>1</td>\n",
       "      <td>0</td>\n",
       "    </tr>\n",
       "    <tr>\n",
       "      <th>4</th>\n",
       "      <td>2020-01-24</td>\n",
       "      <td>Snohomish</td>\n",
       "      <td>Washington</td>\n",
       "      <td>53061.0</td>\n",
       "      <td>1</td>\n",
       "      <td>0</td>\n",
       "    </tr>\n",
       "  </tbody>\n",
       "</table>\n",
       "</div>"
      ],
      "text/plain": [
       "         date     county       state     fips  cases  deaths\n",
       "0  2020-01-21  Snohomish  Washington  53061.0      1       0\n",
       "1  2020-01-22  Snohomish  Washington  53061.0      1       0\n",
       "2  2020-01-23  Snohomish  Washington  53061.0      1       0\n",
       "3  2020-01-24       Cook    Illinois  17031.0      1       0\n",
       "4  2020-01-24  Snohomish  Washington  53061.0      1       0"
      ]
     },
     "execution_count": 42,
     "metadata": {},
     "output_type": "execute_result"
    }
   ],
   "source": [
    "df = nytimes()\n",
    "df.head()"
   ]
  },
  {
   "cell_type": "code",
   "execution_count": 43,
   "metadata": {},
   "outputs": [],
   "source": [
    "#from src.plot_cases.py import *"
   ]
  },
  {
   "cell_type": "code",
   "execution_count": 44,
   "metadata": {},
   "outputs": [],
   "source": [
    "# function 1\n",
    "def nytimes():\n",
    "    return pd.read_csv('https://raw.githubusercontent.com/nytimes/covid-19-data/master/us-counties.csv')"
   ]
  },
  {
   "cell_type": "code",
   "execution_count": 45,
   "metadata": {},
   "outputs": [],
   "source": [
    "# function 2\n",
    "def county_data(county, state):\n",
    "    df = nytimes()\n",
    "    return df[(df['county'] == county) & (df['state'] == state)]"
   ]
  },
  {
   "cell_type": "code",
   "execution_count": 65,
   "metadata": {},
   "outputs": [],
   "source": [
    "def plot_county_cases(county, state):\n",
    "    df = county_data(county, state)\n",
    "    fig = df.plot(x='date' ,y='cases', kind='line', rot=45)\n",
    "    fig.set_title(f'COVID19 cases: {county} County, {state}');"
   ]
  },
  {
   "cell_type": "code",
   "execution_count": 66,
   "metadata": {},
   "outputs": [
    {
     "ename": "NameError",
     "evalue": "name 'county' is not defined",
     "output_type": "error",
     "traceback": [
      "\u001b[0;31m---------------------------------------------------------------------------\u001b[0m",
      "\u001b[0;31mNameError\u001b[0m                                 Traceback (most recent call last)",
      "\u001b[0;32m<ipython-input-66-35f5acc13b69>\u001b[0m in \u001b[0;36m<module>\u001b[0;34m()\u001b[0m\n\u001b[0;32m----> 1\u001b[0;31m \u001b[0mcounty\u001b[0m\u001b[0;34m\u001b[0m\u001b[0;34m\u001b[0m\u001b[0m\n\u001b[0m",
      "\u001b[0;31mNameError\u001b[0m: name 'county' is not defined"
     ]
    }
   ],
   "source": [
    "plot_county_cases('Sno')"
   ]
  },
  {
   "cell_type": "code",
   "execution_count": null,
   "metadata": {},
   "outputs": [],
   "source": []
  }
 ],
 "metadata": {
  "kernelspec": {
   "display_name": "Python 3",
   "language": "python",
   "name": "python3"
  },
  "language_info": {
   "codemirror_mode": {
    "name": "ipython",
    "version": 3
   },
   "file_extension": ".py",
   "mimetype": "text/x-python",
   "name": "python",
   "nbconvert_exporter": "python",
   "pygments_lexer": "ipython3",
   "version": "3.6.9"
  },
  "toc": {
   "base_numbering": 1,
   "nav_menu": {},
   "number_sections": false,
   "sideBar": true,
   "skip_h1_title": true,
   "title_cell": "Table of Contents",
   "title_sidebar": "Contents",
   "toc_cell": false,
   "toc_position": {},
   "toc_section_display": true,
   "toc_window_display": false
  },
  "varInspector": {
   "cols": {
    "lenName": 16,
    "lenType": 16,
    "lenVar": 40
   },
   "kernels_config": {
    "python": {
     "delete_cmd_postfix": "",
     "delete_cmd_prefix": "del ",
     "library": "var_list.py",
     "varRefreshCmd": "print(var_dic_list())"
    },
    "r": {
     "delete_cmd_postfix": ") ",
     "delete_cmd_prefix": "rm(",
     "library": "var_list.r",
     "varRefreshCmd": "cat(var_dic_list()) "
    }
   },
   "types_to_exclude": [
    "module",
    "function",
    "builtin_function_or_method",
    "instance",
    "_Feature"
   ],
   "window_display": false
  }
 },
 "nbformat": 4,
 "nbformat_minor": 4
}
